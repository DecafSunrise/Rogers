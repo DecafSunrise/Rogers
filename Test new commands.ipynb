{
 "cells": [
  {
   "cell_type": "code",
   "execution_count": 18,
   "id": "19ea9182",
   "metadata": {},
   "outputs": [],
   "source": [
    "def get_insult():\n",
    "    resp = requests.get(r\"https://evilinsult.com/generate_insult.php?lang=en&type=json\")\n",
    "\n",
    "    if resp.status_code == 200:\n",
    "        return json.loads(resp.text)['insult']\n",
    "    else:\n",
    "        return \"Well I just don't like you that much\""
   ]
  },
  {
   "cell_type": "code",
   "execution_count": 23,
   "id": "74c0235e",
   "metadata": {},
   "outputs": [],
   "source": [
    "def trump():\n",
    "    resp = requests.get(r\"https://api.tronalddump.io/random/quote\")\n",
    "    \n",
    "    if resp.status_code == 200:\n",
    "        return json.loads(resp.text)['value']\n",
    "    else:\n",
    "        return \"We're staying in Syria for the oil'\""
   ]
  },
  {
   "cell_type": "code",
   "execution_count": 19,
   "id": "7884763c",
   "metadata": {},
   "outputs": [],
   "source": [
    "resp = requests.get(r\"https://api.tronalddump.io/random/quote\")"
   ]
  },
  {
   "cell_type": "code",
   "execution_count": 22,
   "id": "a4f8d50b",
   "metadata": {},
   "outputs": [
    {
     "data": {
      "text/plain": [
       "'Hillary Clinton is not qualified to be president because her judgement has been proven to be so bad! Would be four more years of stupidity!'"
      ]
     },
     "execution_count": 22,
     "metadata": {},
     "output_type": "execute_result"
    }
   ],
   "source": [
    "json.loads(resp.text)['value']"
   ]
  },
  {
   "cell_type": "code",
   "execution_count": 24,
   "id": "c7a1fbb9",
   "metadata": {},
   "outputs": [
    {
     "data": {
      "text/plain": [
       "'Hypocrite! Hillary Clinton claims she needs a \"public and a private stance\" in discussions with Wall Street banks.'"
      ]
     },
     "execution_count": 24,
     "metadata": {},
     "output_type": "execute_result"
    }
   ],
   "source": [
    "trump()"
   ]
  },
  {
   "cell_type": "code",
   "execution_count": null,
   "id": "f23d666d",
   "metadata": {},
   "outputs": [],
   "source": []
  }
 ],
 "metadata": {
  "kernelspec": {
   "display_name": "NLP",
   "language": "python",
   "name": "nlp"
  },
  "language_info": {
   "codemirror_mode": {
    "name": "ipython",
    "version": 3
   },
   "file_extension": ".py",
   "mimetype": "text/x-python",
   "name": "python",
   "nbconvert_exporter": "python",
   "pygments_lexer": "ipython3",
   "version": "3.8.11"
  }
 },
 "nbformat": 4,
 "nbformat_minor": 5
}
