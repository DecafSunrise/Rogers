{
 "cells": [
  {
   "cell_type": "code",
   "execution_count": 18,
   "id": "2aafa102",
   "metadata": {},
   "outputs": [],
   "source": [
    "def get_insult():\n",
    "    resp = requests.get(r\"https://evilinsult.com/generate_insult.php?lang=en&type=json\")\n",
    "\n",
    "    if resp.status_code == 200:\n",
    "        return json.loads(resp.text)['insult']\n",
    "    else:\n",
    "        return \"Well I just don't like you that much\""
   ]
  },
  {
   "cell_type": "code",
   "execution_count": 23,
   "id": "1d7bcc2c",
   "metadata": {},
   "outputs": [],
   "source": [
    "def trump():\n",
    "    resp = requests.get(r\"https://api.tronalddump.io/random/quote\")\n",
    "    \n",
    "    if resp.status_code == 200:\n",
    "        return json.loads(resp.text)['value']\n",
    "    else:\n",
    "        return \"We're staying in Syria for the oil'\""
   ]
  },
  {
   "cell_type": "code",
   "execution_count": 19,
   "id": "58f802b8",
   "metadata": {},
   "outputs": [],
   "source": [
    "resp = requests.get(r\"https://api.tronalddump.io/random/quote\")"
   ]
  },
  {
   "cell_type": "code",
   "execution_count": 22,
   "id": "3e5ae51b",
   "metadata": {},
   "outputs": [
    {
     "data": {
      "text/plain": [
       "'Hillary Clinton is not qualified to be president because her judgement has been proven to be so bad! Would be four more years of stupidity!'"
      ]
     },
     "execution_count": 22,
     "metadata": {},
     "output_type": "execute_result"
    }
   ],
   "source": [
    "json.loads(resp.text)['value']"
   ]
  },
  {
   "cell_type": "code",
   "execution_count": 24,
   "id": "a3101595",
   "metadata": {},
   "outputs": [
    {
     "data": {
      "text/plain": [
       "'Hypocrite! Hillary Clinton claims she needs a \"public and a private stance\" in discussions with Wall Street banks.'"
      ]
     },
     "execution_count": 24,
     "metadata": {},
     "output_type": "execute_result"
    }
   ],
   "source": [
    "trump()"
   ]
  },
  {
   "cell_type": "code",
   "execution_count": 25,
   "id": "4445cc4c",
   "metadata": {},
   "outputs": [
    {
     "data": {
      "text/plain": [
       "True"
      ]
     },
     "execution_count": 25,
     "metadata": {},
     "output_type": "execute_result"
    }
   ],
   "source": [
    "from dotenv import load_dotenv\n",
    "\n",
    "load_dotenv()"
   ]
  },
  {
   "cell_type": "code",
   "execution_count": 27,
   "id": "4c5b8271",
   "metadata": {},
   "outputs": [],
   "source": [
    "import os"
   ]
  },
  {
   "cell_type": "code",
   "execution_count": 28,
   "id": "c07c34c8",
   "metadata": {},
   "outputs": [
    {
     "data": {
      "text/plain": [
       "'MTAzNzkzNjg4MjMwNDE1OTc2NA.G6g4TG.hpeqbhg0BuIblSnM9IHxBCXRj2XIsZlHBGE0j0'"
      ]
     },
     "execution_count": 28,
     "metadata": {},
     "output_type": "execute_result"
    }
   ],
   "source": [
    "os.getenv('TOKEN')"
   ]
  },
  {
   "cell_type": "code",
   "execution_count": null,
   "id": "1f048451",
   "metadata": {},
   "outputs": [],
   "source": []
  }
 ],
 "metadata": {
  "kernelspec": {
   "display_name": "NLP",
   "language": "python",
   "name": "nlp"
  },
  "language_info": {
   "codemirror_mode": {
    "name": "ipython",
    "version": 3
   },
   "file_extension": ".py",
   "mimetype": "text/x-python",
   "name": "python",
   "nbconvert_exporter": "python",
   "pygments_lexer": "ipython3",
   "version": "3.8.11"
  }
 },
 "nbformat": 4,
 "nbformat_minor": 5
}
